{
 "cells": [
  {
   "cell_type": "code",
   "execution_count": 3,
   "metadata": {},
   "outputs": [],
   "source": [
    "import numpy as np\n",
    "import pandas as pd\n",
    "PREVIOUS_MAX_ROWS = pd.options.display.max_rows\n",
    "pd.options.display.max_columns = 20\n",
    "pd.options.display.max_rows = 20\n",
    "pd.options.display.max_colwidth = 80\n",
    "np.random.seed(12345)\n",
    "import matplotlib.pyplot as plt\n",
    "plt.rc(\"figure\", figsize=(10, 6))\n",
    "np.set_printoptions(precision=4, suppress=True)\n",
    "\n"
   ]
  },
  {
   "cell_type": "code",
   "execution_count": 12,
   "metadata": {},
   "outputs": [
    {
     "name": "stdout",
     "output_type": "stream",
     "text": [
      "(953, 24)\n",
      "                            track_name    artist(s)_name  artist_count  \\\n",
      "0  Seven (feat. Latto) (Explicit Ver.)  Latto, Jung Kook             2   \n",
      "1                                 LALA       Myke Towers             1   \n",
      "2                              vampire    Olivia Rodrigo             1   \n",
      "\n",
      "   released_year  released_month  released_day  in_spotify_playlists  \\\n",
      "0           2023               7            14                   553   \n",
      "1           2023               3            23                  1474   \n",
      "2           2023               6            30                  1397   \n",
      "\n",
      "   in_spotify_charts    streams  in_apple_playlists  ...  bpm key   mode  \\\n",
      "0                147  141381703                  43  ...  125   B  Major   \n",
      "1                 48  133716286                  48  ...   92  C#  Major   \n",
      "2                113  140003974                  94  ...  138   F  Major   \n",
      "\n",
      "  danceability_%  valence_% energy_% acousticness_%  instrumentalness_%  \\\n",
      "0             80         89       83             31                   0   \n",
      "1             71         61       74              7                   0   \n",
      "2             51         32       53             17                   0   \n",
      "\n",
      "   liveness_%  speechiness_%  \n",
      "0           8              4  \n",
      "1          10              4  \n",
      "2          31              6  \n",
      "\n",
      "[3 rows x 24 columns]\n",
      "\n",
      "---\n",
      " (953, 24)\n",
      "        track_name       artist(s)_name  artist_count  released_year  \\\n",
      "207         Chanel  Becky G, Peso Pluma             2           2023   \n",
      "910  The Scientist             Coldplay             1           2002   \n",
      "430      KICK BACK        Kenshi Yonezu             1           2022   \n",
      "\n",
      "     released_month  released_day  in_spotify_playlists  in_spotify_charts  \\\n",
      "207               3            30                   681                 10   \n",
      "910               8             5                 30992                  6   \n",
      "430              10            12                   574                  4   \n",
      "\n",
      "        streams  in_apple_playlists  ...  bpm key   mode danceability_%  \\\n",
      "207   161460990                  15  ...  132   D  Major             85   \n",
      "910  1608164312                 124  ...  146   F  Major             56   \n",
      "430   210038833                  38  ...  102  C#  Major             58   \n",
      "\n",
      "     valence_% energy_% acousticness_%  instrumentalness_%  liveness_%  \\\n",
      "207         53       68             40                   0           9   \n",
      "910         21       44             73                   0          11   \n",
      "430         29       94              0                   0           9   \n",
      "\n",
      "     speechiness_%  \n",
      "207              4  \n",
      "910              2  \n",
      "430             11  \n",
      "\n",
      "[3 rows x 24 columns]\n",
      "None\n"
     ]
    }
   ],
   "source": [
    "df = pd.read_csv('spotify-2023.csv', encoding='latin-1')\n",
    "print(df.shape)\n",
    "print(df.head(10))\n",
    "print(\"\\n---\\n\", df.shape)\n",
    "df=df.sample(frac=1)\n",
    "print(print(df.head(3)))"
   ]
  }
 ],
 "metadata": {
  "kernelspec": {
   "display_name": "Python 3",
   "language": "python",
   "name": "python3"
  },
  "language_info": {
   "codemirror_mode": {
    "name": "ipython",
    "version": 3
   },
   "file_extension": ".py",
   "mimetype": "text/x-python",
   "name": "python",
   "nbconvert_exporter": "python",
   "pygments_lexer": "ipython3",
   "version": "3.11.6"
  }
 },
 "nbformat": 4,
 "nbformat_minor": 2
}
